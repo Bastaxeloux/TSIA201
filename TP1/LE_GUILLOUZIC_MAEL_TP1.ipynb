{
 "cells": [
  {
   "cell_type": "markdown",
   "metadata": {},
   "source": [
    "## $\\color{red}{\\text{Conversion of sampling frequency and STFT}}$\n",
    "\n",
    "#### Maël Le Guillouzic\n",
    "*TP de TSIA 201 n°1*"
   ]
  },
  {
   "cell_type": "code",
   "execution_count": 1,
   "metadata": {},
   "outputs": [
    {
     "name": "stdout",
     "output_type": "stream",
     "text": [
      "Python version\n",
      "3.11.4 (tags/v3.11.4:d2340ef, Jun  7 2023, 05:45:37) [MSC v.1934 64 bit (AMD64)]\n"
     ]
    }
   ],
   "source": [
    "# On réalise les imports nécessaires pour le bon fonctionnement du notebook\n",
    "import os, sys, wave, struct\n",
    "import sys\n",
    "import numpy as np\n",
    "import pyaudio\n",
    "from IPython.display import Audio\n",
    "import matplotlib.pyplot as plt\n",
    "from scipy.io.wavfile import write\n",
    "\n",
    "print(\"Python version\")\n",
    "print(sys.version)"
   ]
  },
  {
   "cell_type": "markdown",
   "metadata": {},
   "source": [
    "## Introduction\n",
    " Les cellules suivantes sont fournies par le template. Elles permettent d'ouvrir un fichier audio, de le lire ainsi que d'en obtenir les principales caractéristiques et enfin de l'afficher."
   ]
  },
  {
   "cell_type": "code",
   "execution_count": 2,
   "metadata": {},
   "outputs": [],
   "source": [
    "def load_sound(file):\n",
    "    return wave.open(file, 'rb')\n",
    "\n",
    "def play_sound(file, chunk = 1024):\n",
    "    wf = load_sound(file)\n",
    "    p = pyaudio.PyAudio()\n",
    "    stream = p.open(format=p.get_format_from_width(wf.getsampwidth()),\n",
    "                    channels=wf.getnchannels(),\n",
    "                    rate=wf.getframerate(),\n",
    "                    output=True)\n",
    "    data = wf.readframes(chunk)\n",
    "\n",
    "    while data:\n",
    "        stream.write(data)\n",
    "        data = wf.readframes(chunk )\n",
    "\n",
    "    stream.stop_stream()\n",
    "    stream.close()\n",
    "    p.terminate()\n",
    "    \n",
    "    \n",
    "def plot_sound(data, times, name='default_name', save=False):\n",
    "    plt.figure(figsize=(30, 4))\n",
    "    plt.fill_between(times, data)\n",
    "    plt.xlim(times[0], times[-1])\n",
    "    plt.xlabel('time (s)')\n",
    "    plt.ylabel('amplitude')\n",
    "    # plt.ylim(-15000, 15000)\n",
    "    if save:\n",
    "        plt.savefig(name+'.png', dpi=100)\n",
    "    plt.show()"
   ]
  },
  {
   "cell_type": "markdown",
   "metadata": {},
   "source": [
    "### Reading and playing .wav file"
   ]
  },
  {
   "cell_type": "markdown",
   "metadata": {},
   "source": [
    "Ici on choisit le son qu'on utilisera pour le notebook."
   ]
  },
  {
   "cell_type": "code",
   "execution_count": 130,
   "metadata": {},
   "outputs": [],
   "source": [
    "data_path = os.getcwd()\n",
    "music = 'caravan_48khz.wav'\n",
    "sound = os.path.join(data_path, music) "
   ]
  },
  {
   "cell_type": "markdown",
   "metadata": {},
   "source": [
    "On peut écouter ce son choisit grace au module Audio de `Ipython.display`"
   ]
  },
  {
   "cell_type": "code",
   "execution_count": null,
   "metadata": {},
   "outputs": [],
   "source": [
    "wavefile = load_sound(sound)\n",
    "print(wavefile.getparams())\n",
    "\n",
    "play = False\n",
    "if play :\n",
    "    play_sound(sound)\n",
    "wavefile.close()\n",
    "\n",
    "Audio(sound)"
   ]
  },
  {
   "cell_type": "markdown",
   "metadata": {},
   "source": [
    "Pour étudier cet audio, on va devoir le convertir en *np.array*. C'est l'opération ici réalisée.\n",
    "On en profite pour afficher sa caractéristique principale sur laquelle on va travailler, sa fréquence d'échantillonage : **48 kHz**"
   ]
  },
  {
   "cell_type": "code",
   "execution_count": null,
   "metadata": {},
   "outputs": [],
   "source": [
    "wavefile = wave.open(sound, 'r')\n",
    "Fs = int(wavefile.getframerate())\n",
    "num_samples = int(wavefile.getnframes())\n",
    "print(f\"Frequence d'échantillonnage: {Fs/1000} kHz et nombre d'échantillons: {num_samples}\")\n",
    "\n",
    "data = wavefile.readframes(num_samples)\n",
    "data = struct.unpack('{n}h'.format(n=num_samples), data)\n",
    "x = np.array(data)\n",
    "\n",
    "print('Durée du son: ', num_samples/Fs, 's')"
   ]
  },
  {
   "cell_type": "code",
   "execution_count": null,
   "metadata": {},
   "outputs": [],
   "source": [
    "timestep = 1/float(Fs)\n",
    "times = np.arange(len(x))*timestep\n",
    "plot_sound(x, times)"
   ]
  },
  {
   "cell_type": "markdown",
   "metadata": {},
   "source": [
    "## Partie 1 : Conversion of Sampling Rate\n",
    "\n",
    "### Question 1\n",
    "*On souhaite convertir cet audio de la fréquence d'échantillonage 48kHz à celle 32kHz. Quelle chaine va t'on utiliser pour cela ?*\n",
    "\n",
    "L'opération souhaitée est un resampling de facteur **2/3**.\n",
    "On peut donc mettre en place la chaine suivante, où on a dans l'ordre :\n",
    "- **Une insertion de zéros** d'ordre 2\n",
    "- Un **filtrage** par un filtre passe-bas de fonction de transfert $H(e^{2i\\pi\\nu}) = L \\;\\; \\text{si} \\;\\; \\forall \\nu < \\frac{1}{6}$ et $H(e^{2i\\pi\\nu}) = 0 \\;\\; \\text{si} \\;\\; \\frac{1}{6} < \\nu < \\frac{1}{2}$\n",
    "- Une **décimation** d'ordre 3\n",
    "\n",
    "\n",
    "<img src=\"chaine.jpg\" width=\"500\" />"
   ]
  },
  {
   "cell_type": "markdown",
   "metadata": {},
   "source": [
    "### Question 2\n",
    "\n",
    "On va donc générer un filtre de réponse impulsionelle $h(n)$ qui doit respecter le critère suivant :\n",
    "\n",
    "- Ecart d'au moins 50 dB entre la bande passante et la bande non-passante\n",
    "- Une bande de transition relativement faible\n",
    "\n",
    "On va pour cela choisir un filtre d'odre très grand, qui respectera ainsi facilement les contraintes."
   ]
  },
  {
   "cell_type": "code",
   "execution_count": null,
   "metadata": {},
   "outputs": [],
   "source": [
    "from scipy.signal import remez, lfilter, freqz\n",
    "\n",
    "# Fréquence d'échantillonnage\n",
    "Fs = 48000\n",
    "\n",
    "# M et L définissent notre facteur de resampling\n",
    "M=3\n",
    "L=2\n",
    "\n",
    "# Fc est la fréquence de coupure\n",
    "Fc = np.min([Fs/(2*M), Fs/(2*L)])\n",
    "Fc_norm = Fc/Fs # on normalise\n",
    "Fcp_norm = (Fc+0.05*Fc)/Fs # Fcp correspond à la fréquence de début de la bande non-passante\n",
    "# Fcp_norm - Fc_norm = Largeur de la bande de transition\n",
    "# print(Fc_norm)\n",
    "\n",
    "N = 500\n",
    "h = remez(N,[0,Fc_norm,Fcp_norm,0.5],[L,0])\n",
    "# print(h)\n",
    "\n",
    "nu,H = freqz(h)\n",
    "plt.figure(figsize=(15,5))\n",
    "plt.plot(np.linspace(0,0.5,len(H)),20*np.log10(np.abs(H)))\n",
    "plt.title('Frequency response of the low-pass filter')\n",
    "plt.grid()\n",
    "plt.show()"
   ]
  },
  {
   "cell_type": "markdown",
   "metadata": {},
   "source": [
    "Pour construire notre chaine de resampling, on va tout de suite définir les trois opérations importantes, qui seront ré-utilisées dans les questions tout au long de la partie 1 : \n",
    "- Insertion de zéros\n",
    "- Filtrage\n",
    "- Déciimation"
   ]
  },
  {
   "cell_type": "code",
   "execution_count": 135,
   "metadata": {},
   "outputs": [],
   "source": [
    "# Fonction d'insertion de zéros\n",
    "def insert_zeros(x,L):\n",
    "    temp = np.zeros(len(x)*L)\n",
    "    temp[::L] = x\n",
    "    return temp\n",
    "\n",
    "# Fonction de filtrage (filtre par notre filtre passe-bas déterminé plus haut)\n",
    "def filter(x,h):\n",
    "    return lfilter(h,1,x)\n",
    "\n",
    "# Fonction de resampling\n",
    "def decimation(x,L):\n",
    "    return x[::L]"
   ]
  },
  {
   "cell_type": "markdown",
   "metadata": {},
   "source": [
    "On va ainsi pouvoir effectuer le resampling"
   ]
  },
  {
   "cell_type": "code",
   "execution_count": null,
   "metadata": {},
   "outputs": [],
   "source": [
    "# opération 1 : insertion de zéros\n",
    "upsampled = insert_zeros(x,L)\n",
    "# opération 2 : filtrage\n",
    "filtered = lfilter(h,1.0,upsampled)\n",
    "# opération 3 : decimation\n",
    "final = decimation(filtered,M)\n",
    "\n",
    "# Vérifications\n",
    "print(f\"Verif rapide {len(filtered)}={M*len(final)}\")\n",
    "print(f\"len final {len(final)}, len x {len(x)}, ce qui donne un facteur de 2/3 : c'est ce qu'on voulait !\")\n",
    "\n",
    "# On peut maintenant afficher le signal resamplé\n",
    "step = 1/(Fs*L/M)\n",
    "times = np.arange(len(final))*step\n",
    "plot_sound(final, times)\n",
    "\n",
    "# On peut maintenant sauvegarder le signal resamplé\n",
    "write('caravan_32khz.wav',int(Fs*L/M),final.astype(np.int16))"
   ]
  },
  {
   "cell_type": "markdown",
   "metadata": {},
   "source": [
    "La taille du vecteur obtenue en sortie est bien inférieure d'un facteur 2/3 par rapport au signal d'origine. Au nouvel échantillonage, la durée est toujours de 16 secondes. Tout semble indiquer que l'opération a réussi. Ecoutons pour en être sur :"
   ]
  },
  {
   "cell_type": "code",
   "execution_count": null,
   "metadata": {},
   "outputs": [],
   "source": [
    "# Audio(final,rate=int(Fs*(L/M)))\n",
    "write('caravan_32khz.wav',int(Fs*L/M),np.array(final,dtype=np.int16))\n",
    "Audio('caravan_32khz.wav')"
   ]
  },
  {
   "cell_type": "markdown",
   "metadata": {},
   "source": [
    "On retrouve notre musique de départ !\n",
    "\n",
    "Ce qui est pratique avec la manière dont on a codé cette partie, c'est qu'on peut choisir **M** et **L** de manière à obtenir le facteur de resampling de notre choix. Essayons donc avec $L=1$ et $M=12$ par exemple (on essaie de conserver M et L premiers entre eux). On va alors entendre à l'oreille que les aigues disparaissent, ce qui est logique.\n",
    "\n",
    "Pour cela on va juste intégrer notre code précédent dans une fonction (cela nous sera aussi utile pour comparer les temps d'éxecution)"
   ]
  },
  {
   "cell_type": "code",
   "execution_count": 138,
   "metadata": {},
   "outputs": [],
   "source": [
    "def resample(x,L,M):\n",
    "    Fs = 48000\n",
    "    Fc = np.min([Fs/(2*M), Fs/(2*L)])\n",
    "    Fc_norm = Fc/Fs\n",
    "    Fcp_norm = (Fc+0.05*Fc)/Fs\n",
    "    N = 500\n",
    "    h = remez(N,[0,Fc_norm,Fcp_norm,0.5],[L,0])\n",
    "    upsampled = insert_zeros(x,L)\n",
    "    filtered = filter(upsampled,h)\n",
    "    final = decimation(filtered,M)\n",
    "    return final"
   ]
  },
  {
   "cell_type": "code",
   "execution_count": null,
   "metadata": {},
   "outputs": [],
   "source": [
    "# Resample avec L=1 et M=12\n",
    "final12 = resample(x,1,12)\n",
    "Audio(final12,rate=int(Fs/12))"
   ]
  },
  {
   "cell_type": "markdown",
   "metadata": {},
   "source": [
    "Vérifions une dernière fois que notre audio sauvegardé l'est bien à la bonne fréquence."
   ]
  },
  {
   "cell_type": "code",
   "execution_count": null,
   "metadata": {},
   "outputs": [],
   "source": [
    "wavefile = wave.open('caravan_32khz.wav', 'r')\n",
    "Fs = int(wavefile.getframerate())\n",
    "num_samples = int(wavefile.getnframes())\n",
    "print(f\"Frequence d'échantillonnage: {Fs/1000} kHz et nombre d'échantillons: {num_samples}\")\n",
    "print(f\"Durée du son: {num_samples/Fs} s\")"
   ]
  },
  {
   "cell_type": "code",
   "execution_count": null,
   "metadata": {},
   "outputs": [],
   "source": [
    "wavefile = wave.open(sound, 'r')\n",
    "x = np.array(struct.unpack('{n}h'.format(n=int(wavefile.getnframes())), wavefile.readframes(int(wavefile.getnframes()))))\n",
    "Fs = wavefile.getframerate()\n",
    "wavefile.close()\n",
    "\n",
    "y = resample(x,2,3)\n",
    "\n",
    "step = 1/Fs\n",
    "times = np.arange(len(x))*step\n",
    "plot_sound(x, times)\n",
    "\n",
    "step = 1/(Fs*(2/3))\n",
    "times = np.arange(len(y))*step\n",
    "plot_sound(y, times)"
   ]
  },
  {
   "cell_type": "markdown",
   "metadata": {},
   "source": [
    "### Question 4\n",
    "\n",
    "On peut décomposer grâce aux composantes poly-phase cette opération de resample afin de gagner en efficacité. Pour cela on peut commencer par vérifier l'équivalence demandée. D'une part (avec $y'$ le signal situé juste après le bloc $z^{-1}$):\n",
    "$$ Y'(z) = X(z^2) z^{-1} $$\n",
    "$$ Y(z) = \\frac{1}{3} \\sum_{k = 0}^{2} z^{-\\frac{1}{3}} X\\left(z^{\\frac{2}{3}} e^{-2i\\pi \\frac{k}{3}}\\right)$$\n",
    "D'autre part (avec $y'$ le signal situé juste après le bloc de décimation par 3) :\n",
    "$$ Y'(z) = \\frac{1}{3} \\sum_{k = 0}^{2} z^{\\frac{1}{3}} X\\left(z^{\\frac{2}{3}} e^{-2i\\pi \\frac{k}{3}}\\right) $$\n",
    "$$ Y(z) = \\frac{z^{-1}}{3} \\sum_{k = 0}^{2} z^{\\frac{2}{3}} X\\left(z^{\\frac{2}{3}} e^{-2i\\pi \\frac{k}{3}}\\right) = \\frac{1}{3} \\sum_{k = 0}^{2} z^{-\\frac{1}{3}} X\\left(z^{\\frac{2}{3}} e^{-2i\\pi \\frac{k}{3}}\\right) $$\n",
    "On a donc bien égalité des deux schéma bloc."
   ]
  },
  {
   "cell_type": "markdown",
   "metadata": {},
   "source": [
    "On va utiliser cette équivalence pour trouver un schéma équivalent au resampling. On pourra alors \n",
    "\n",
    "<img src=\"resampling_polyphase.jpg\" alt=\"Schéma équivalent en utilisant la méthode des composantes polyphases\" width=\"500\"/> "
   ]
  },
  {
   "cell_type": "markdown",
   "metadata": {},
   "source": [
    "### Question 5 \n",
    "Programmons notre implémentation polyphase. Pour cela on va commencer par définir deux opérations qui nous serons utiles : le décalage à droite et à gauche d'un montant voulu."
   ]
  },
  {
   "cell_type": "code",
   "execution_count": 142,
   "metadata": {},
   "outputs": [],
   "source": [
    "# On définit des fonctions décalage à gauche et à droite\n",
    "def shift_right(x,n):\n",
    "    return np.pad(x[n:],(0,n),mode='constant')\n",
    "\n",
    "def shift_left(x,n):\n",
    "    return np.pad(x[:len(x)-n],(n,0),mode='constant')\n",
    "\n",
    "# test = np.array([1,2,3,4,5,6])\n",
    "# print(shift_right(test,2))\n",
    "# print(shift_left(test,2))"
   ]
  },
  {
   "cell_type": "markdown",
   "metadata": {},
   "source": [
    "Puis on peut définir notre fonction principale. **Attention** cette implémentation polyphase ne marche que pour un facteur de resampling de 2/3."
   ]
  },
  {
   "cell_type": "code",
   "execution_count": 143,
   "metadata": {},
   "outputs": [],
   "source": [
    "# Programmons cette implémentation polyphase de la fonction de resampling \n",
    "# pour un facteur de resampling de 2/3\n",
    "\n",
    "def resample_poly_2_3(x,L=2,M=3):\n",
    "    # On réalise les shifts en entrée\n",
    "    x0,x1,x2,x3,x4,x5 = x,shift_right(x,1),shift_left(x,1),x,shift_left(x,1),shift_left(x,2)\n",
    "    # Puis on fait les décimations\n",
    "    x0,x1,x2,x3,x4,x5 = map(lambda x:decimation(x,M),[x0, x1, x2, x3, x4, x5])\n",
    "    # Et ici on réalise les polyphases\n",
    "    x0, x1, x2, x3, x4, x5 = x0[::3], x1[1::3], x2[2::3], x3[::3], x4[1::3], x5[2::3]\n",
    "\n",
    "    # On somme les polyphases de chaque branche\n",
    "    x01 = np.sum([x0,x1,x2],axis=0)\n",
    "    x02 = np.sum([x3,x4,x5],axis=0)\n",
    "\n",
    "    # On insère des zéros\n",
    "    x01 = insert_zeros(x01,L)\n",
    "    x02 = insert_zeros(x02,L)\n",
    "\n",
    "    # On somme les deux branches\n",
    "    x01=shift_left(x01,1)\n",
    "    y = np.sum([x01,x02],axis=0)\n",
    "    return y"
   ]
  },
  {
   "cell_type": "markdown",
   "metadata": {},
   "source": [
    "On va recharger le son depuis le départ pour éviter toute mauvaise suprise. Puis on va pouvoir executer notre fonction de resample polyphase et vérifier qu'elle fonctionne correctement.\n",
    "\n",
    "Par habitude, je sépare la cellule de définition de ma fonction de celle d'éxécution."
   ]
  },
  {
   "cell_type": "code",
   "execution_count": 144,
   "metadata": {},
   "outputs": [],
   "source": [
    "wavefile = wave.open(sound,'r')\n",
    "x = np.array(struct.unpack('{n}h'.format(n=int(wavefile.getnframes())), wavefile.readframes(int(wavefile.getnframes()))))\n",
    "Fs = wavefile.getframerate()\n",
    "wavefile.close()"
   ]
  },
  {
   "cell_type": "code",
   "execution_count": null,
   "metadata": {},
   "outputs": [],
   "source": [
    "y_poly = resample_poly_2_3(x=x)\n",
    "# print(f\"len y_poly {len(y_poly)}, len x {len(x)}\")\n",
    "\n",
    "step = 3/(Fs*2/3)\n",
    "times_poly = np.arange(len(y_poly))*step\n",
    "plot_sound(y_poly,times_poly)\n",
    "\n",
    "Audio(y_poly,rate=int(Fs*(L/(3*M))))"
   ]
  },
  {
   "cell_type": "markdown",
   "metadata": {},
   "source": [
    "#### Question 6\n",
    "\n",
    "On cherche à évaluer l'amélioration avec notre méthode polyphase.\n",
    "Grace au module `time`, on peut afficher simplement le temps d'éxecution de chaque fonction."
   ]
  },
  {
   "cell_type": "code",
   "execution_count": null,
   "metadata": {},
   "outputs": [],
   "source": [
    "import time\n",
    "\n",
    "start = time.time()\n",
    "y = resample(x,2,3)\n",
    "end = time.time()\n",
    "\n",
    "start_poly = time.time()\n",
    "y_poly = resample_poly_2_3(x,2,3)\n",
    "end_poly = time.time()\n",
    "\n",
    "tps1 = end-start\n",
    "tps2 = end_poly-start_poly\n",
    "\n",
    "if tps2==0:\n",
    "    tps2 = 0.0001\n",
    "\n",
    "print(f\"Temps d'exécution du resample classique: {tps1}\")\n",
    "print(f\"Temps d'exécution du resample poly: {tps2}\")\n",
    "print(f\"Amélioration d'un facteur {tps1/tps2}\")"
   ]
  },
  {
   "cell_type": "markdown",
   "metadata": {},
   "source": [
    "On remarque que le temps d'éxecution varie grandement selon les runs.\n",
    "Pour avoir une meilleur idée de ce dernier, éxecutons donc chaque fonction 100 fois, et en réalisant la moyenne des temps d'éxecution on aura une bonne idée du facteur d'amélioration moyen."
   ]
  },
  {
   "cell_type": "code",
   "execution_count": null,
   "metadata": {},
   "outputs": [],
   "source": [
    "# Puisque d'itérer 100 fois chaque fonction prend du temps,\n",
    "# on définit le paramètre q6 qui nous permet d'éxecuter ou non cette partie\n",
    "q6 = True\n",
    "\n",
    "# Calculons l'amélioration du temps d'exécution moyenne\n",
    "if q6:\n",
    "    n = 100\n",
    "    tps1,tps2 = [],[]\n",
    "    for i in range(n):\n",
    "        start = time.time()\n",
    "        y = resample(x,2,3)\n",
    "        end = time.time()\n",
    "        tps1.append(end-start)\n",
    "        \n",
    "        start_poly = time.time()\n",
    "        y_poly = resample_poly_2_3(x,2,3)\n",
    "        end_poly = time.time()\n",
    "        tps2.append(end_poly-start_poly)\n",
    "\n",
    "    print(f\"Temps d'exécution moyen du resample classique: {np.mean(tps1)}\")\n",
    "    print(f\"Temps d'exécution moyen du resample poly: {np.mean(tps2)}\")\n",
    "    print(f\"Amélioration moyenne d'un facteur {np.mean(tps1)/np.mean(tps2)} en moyenne\")"
   ]
  },
  {
   "cell_type": "markdown",
   "metadata": {},
   "source": [
    "On améliore en moyenne d'un facteur 12 : **c'est bien !**"
   ]
  },
  {
   "cell_type": "markdown",
   "metadata": {},
   "source": [
    "## Partie 2 : STFT\n",
    "\n",
    "*Dans cette partie on va chercher à implémenter et étudier la STFT, qui nous permettra d'observer le spectrogramme de notre signal*\n",
    "\n",
    "#### Question 1\n",
    "Prenons une fenetre de Hann de longueur $N_w$, calculons et affichons sa DFT. On essaiera aussi d'obtenir la largeur du lobe principal. On choisit pour cela un M *très grand* afin de réaliser une opération de zéro padding et d'augmenter la résolution de la DFT."
   ]
  },
  {
   "cell_type": "code",
   "execution_count": 148,
   "metadata": {},
   "outputs": [],
   "source": [
    "N = x.shape[0] # longueur du signal\n",
    "Nw = 512 # Taille de la fenetre d'analyse\n",
    "M = 4*4096 # Ordre de la tfd\n",
    "L = M/2+1"
   ]
  },
  {
   "cell_type": "code",
   "execution_count": null,
   "metadata": {},
   "outputs": [],
   "source": [
    "# Prenons une fenêtre de Hanning\n",
    "w = np.hanning(Nw)\n",
    "\n",
    "# On réalise la TFD, si M>Nw, on réalise un zero padding\n",
    "W = np.fft.fft(w,M)\n",
    "Wlog = 20*np.log10(np.abs(W))\n",
    "freqs = np.fft.fftfreq(M)\n",
    "\n",
    "# Affichons cette TFD\n",
    "plt.figure(figsize=(15,3))\n",
    "plt.subplot(122)\n",
    "plt.plot(freqs,Wlog)\n",
    "plt.title('TFD de la fenêtre de Hanning')\n",
    "plt.xlabel('Fréquence')\n",
    "plt.xlim(0,0.04)\n",
    "plt.ylim(-75, 50)\n",
    "\n",
    "plt.subplot(121)\n",
    "plt.plot(w)\n",
    "plt.title('Fenêtre de Hanning')\n",
    "plt.show()"
   ]
  },
  {
   "cell_type": "markdown",
   "metadata": {},
   "source": [
    "Pour rechercher la largeur du lobe principal, on va définir une petite fonction qui va avancer le long du vecteur obtenue par la DFT, jusqu'a ce que le sens de variation de ce vecteur change."
   ]
  },
  {
   "cell_type": "code",
   "execution_count": null,
   "metadata": {},
   "outputs": [],
   "source": [
    "Wrecherche = np.fft.fft(w,M)\n",
    "imax = np.argmax(Wlog)\n",
    "print(f\"Fréquence maximale: {imax} Hz\")\n",
    "\n",
    "# En partant du max, on va avancer jusqu'à ce que la TFD change de sens de variation\n",
    "def largeur_bande(Wlog):\n",
    "    recherche = True\n",
    "    ilarge = imax\n",
    "    while recherche:\n",
    "        if Wlog[ilarge] > Wlog[ilarge+1]:\n",
    "            ilarge +=1\n",
    "        else:\n",
    "            recherche = False\n",
    "    return Wlog[ilarge],ilarge\n",
    "\n",
    "largeur,ilarge = np.abs(largeur_bande(Wlog))\n",
    "print(f\"Largeur du lobe principal: {2*largeur} Hz\")\n"
   ]
  },
  {
   "cell_type": "markdown",
   "metadata": {},
   "source": [
    "#### Question 2\n",
    "*2. Note that the expression (1), taken at fixed λ, can be written as a convolution and deduce an inter-\n",
    "pretation of the STFT in terms of filtering. Explain the role of the corresponding filter (low-pass?\n",
    "band-pass? high-pass?). As a linear phase FIR filter, specify its type according to its length (even or odd).*\n",
    "\n",
    "Quand on observe l'équation (1) :\n",
    "$$W_x(\\lambda, b) = \\sum_{n \\in \\mathbb{Z}} x(n) w(n - b) e^{-j 2 \\pi \\lambda n} \\tag{1}$$\n",
    "on peut la ré-écrire sous forme de la convolution suivante :\n",
    "$$\n",
    "W_x(\\lambda, b) = \\left[ h_k * x \\right](b) \\:\\: , \\:\\: h_k = \\left( w(n) e^{-j 2 \\pi \\lambda n} \\right) \\tag{2}$$\n",
    "\n",
    "On remarque alors que :\n",
    "- Si $ \\lambda = 0$ alors on ne filtre que par la fenetre de Hanning. Or après avoir tracé sa TFD, on voit que Hanning est **symétrique** et **centrée sur 0**. De plus, elle agit comme un filtre *passe-bande* autour de son lobe principal situé en 0.\n",
    "Ainsi, si $\\lambda = 0$ c'est un filtre **passe-bas**.\n",
    "- Si $ \\lambda \\neq 0$, alors cela revient à décaler la fenetre de Hanning sur une autre fréquence. On effectue donc un **passe-bande** autour de la fréquence $\\lambda$\n",
    "\n",
    "De plus, la fenetre de Hanning étant symétrique, les types 3 et 4 sont d'office éliminés. On peut alors déterminer le type grace à la longueur $N_w$ du filtre:\n",
    "- Si $N_w$ est pair, alors le filtre est symétrique pair, c'est un filtre FIR de type 2.\n",
    "- Si $N_w$ est impair, alors le filtre est symétrique impair, c'est un filtre FIR de type 1."
   ]
  },
  {
   "cell_type": "markdown",
   "metadata": {},
   "source": [
    "#### Question 3\n",
    "\n",
    "Cette nouvelle forme se devine directement de l'écriture (2), par symétrie de la convolution.\n",
    "Elle revient non pas à décaler la fenêtre le long du signal traité; mais à fixer la fenêtre et faire *\"défiler\"* le signal à l'intérieur.\n",
    "C'est cette nouvelle version qui est implémentée dans le template fourni pour le TP.\n",
    "\n",
    "On a alors le lien entre les deux formes :\n",
    "$$\n",
    "\n",
    "\\tilde{X}(\\lambda, b) = \\sum_{n \\in \\mathbb{Z}} x(n + b) w(n) e^{-2 i \\pi \\lambda n}\n",
    "= \\sum_{k \\in \\mathbb{Z}} x(k) w(k-b) e^{-2 i \\pi \\lambda (k-b)}\n",
    "= e^{2 i \\pi \\lambda b} W_x(\\lambda, b)\n",
    "$$"
   ]
  },
  {
   "cell_type": "code",
   "execution_count": 151,
   "metadata": {},
   "outputs": [],
   "source": [
    "\"\"\"\n",
    "Cellule fournie dans le template du TP\n",
    "\"\"\"\n",
    "affich = 1 ; # affichage ou non du spectrogramme\n",
    "R = Nw/4 # incrément sur les temps d'analyse, appelé hop size, t_a=uR\n",
    "# Si R=Nw/2, on a un recouvrement de 50% entre deux fenêtres, etc ... Ici on a un recouvrement de 75%\n",
    "Nt = (np.rint((N-Nw)/R)).astype(int) # nombre de trames\n",
    "\n",
    "if affich:\n",
    "    Xtilde = np.zeros((M,Nt),dtype=complex)\n",
    "    for u in np.arange(0,Nt).reshape(-1): # boucle sur les trames\n",
    "        deb = u*R+1 # début de trame\n",
    "        fin = deb + Nw # fin de trame\n",
    "        tx = np.multiply(x[np.arange(deb.astype(int),fin.astype(int))],w) # calcul de la trame \n",
    "        X = np.fft.fft(tx,M) # tfd à l'instant b\n",
    "        if affich:\n",
    "            Xtilde[:,u] = X\n",
    "        Y = X.copy\n",
    "\n",
    "def extents(f):\n",
    "    delta = f[1]-f[0]\n",
    "    return [f[0]-delta/2,f[-1]+delta/2]"
   ]
  },
  {
   "cell_type": "markdown",
   "metadata": {},
   "source": [
    "#### Question 4\n",
    "\n",
    "A partir du template fourni, on va définir la fonction `X_tilde` qui calcule directement le spectrogramme. On va ensuite calculer ce spectrogramme pour notre signal x, et en extraire une portion de fréquence."
   ]
  },
  {
   "cell_type": "code",
   "execution_count": 152,
   "metadata": {},
   "outputs": [],
   "source": [
    "def X_tilde(x,M,R):\n",
    "    N = x.shape[0]\n",
    "    Nw = 512\n",
    "    w = np.hanning(Nw)\n",
    "    Nt = int(np.rint((N-Nw)/R))\n",
    "    Xtilde = np.zeros((M,Nt),dtype=complex)\n",
    "    for u in np.arange(0,Nt).reshape(-1):\n",
    "        deb = u*R+1\n",
    "        fin = deb + Nw\n",
    "        tx = np.multiply(x[np.arange(deb.astype(int),fin.astype(int))],w)\n",
    "        X = np.fft.fft(tx,M)\n",
    "        Xtilde[:,u] = X\n",
    "    return Xtilde"
   ]
  },
  {
   "cell_type": "code",
   "execution_count": 153,
   "metadata": {},
   "outputs": [],
   "source": [
    "# L'énoncé nous demande de calculer Xtilde pour M=32 et R=1\n",
    "M = 32\n",
    "R = 1\n",
    "k = 3\n",
    "Xtilde2 = X_tilde(x,M,R)"
   ]
  },
  {
   "cell_type": "code",
   "execution_count": null,
   "metadata": {},
   "outputs": [],
   "source": [
    "print(Xtilde.shape)\n",
    "x_k = Xtilde2[1,:]\n",
    "print(f\"x_k est de type : {x_k.dtype}\")\n",
    "print(f\"x_k = {x_k}\")"
   ]
  },
  {
   "cell_type": "markdown",
   "metadata": {},
   "source": [
    "On obtient $x_k$ qui est complexe. En terme de filtrage, la STFT correspond à une série de filtrages passe-bande centrés sur différentes fréquences.\n",
    "Quand on écoute $Re(x_k)$ on entend exactement notre musique de départ. Cela est du au fait que $M=32$ est très faible devant la taille du spectre audible. Ainsi pour un seul échantillon de la DFT, on couvre une large portion de fréquences. C'est pourquoi qu'on on écoute x_k on peut avoir l'impression de retrouver notre signal de départ."
   ]
  },
  {
   "cell_type": "code",
   "execution_count": null,
   "metadata": {},
   "outputs": [],
   "source": [
    "Re_xk = np.real(x_k)\n",
    "Audio(Re_xk,rate=Fs)"
   ]
  },
  {
   "cell_type": "code",
   "execution_count": null,
   "metadata": {},
   "outputs": [],
   "source": [
    "plt.figure(figsize=(15,3))\n",
    "plt.subplot(121)\n",
    "plt.imshow(\n",
    "    X=20*np.log10(np.abs(Xtilde[0:int(L),:])), \n",
    "    aspect='auto',\n",
    "    interpolation='none',\n",
    "    origin='lower', \n",
    "    extent=[0,Nt*R/Fs+Nw/2,0,Fs/2])\n",
    "\n",
    "plt.subplot(122)\n",
    "plt.imshow(\n",
    "    X=20*np.log10(np.abs(Xtilde2[:int(L/2),:])),\n",
    "    aspect='auto',\n",
    "    interpolation='none',\n",
    "    origin='lower',\n",
    "    extent=[0,Nt*R/Fs+Nw/2,0,Fs/2])"
   ]
  },
  {
   "cell_type": "markdown",
   "metadata": {},
   "source": [
    "**Remarque 1 :** Si on prend $4*4096$ on observera le même spectrogramme à gauche et à droite.\n",
    "\n",
    "**Remarque 2 :** On a en effet à droite, pour chaque instant temporelle, une information en fréquence qui est brouilée. C'est la présence de très nombreuses fréquences différentes qui rend impossible l'isolation d'une d'entre elles en particulier."
   ]
  },
  {
   "cell_type": "code",
   "execution_count": null,
   "metadata": {},
   "outputs": [],
   "source": [
    "from scipy.signal import spectrogram\n",
    "\n",
    "Sxx = spectrogram(x, fs=48000)[2]\n",
    "l=len(Sxx)\n",
    "Sxx=np.concatenate([Sxx[l//2:],Sxx[:l//2]])\n",
    "\n",
    "plt.figure(figsize=(15,3))\n",
    "plt.plot(np.arange(-l//2,l//2)/l,Sxx)\n",
    "plt.title('spectrum of the original sound')\n",
    "plt.xlabel('frequencies')\n",
    "plt.xlim(-0.02,0.2)"
   ]
  },
  {
   "cell_type": "markdown",
   "metadata": {},
   "source": [
    "#### Question 5"
   ]
  },
  {
   "cell_type": "markdown",
   "metadata": {},
   "source": [
    "On montre la condition demandée avec : \n",
    "\n",
    "<img src=\"condition_ola.jpg\" alt=\"Démonstration de f(n)=1\" width=\"600\"/>"
   ]
  },
  {
   "cell_type": "code",
   "execution_count": 158,
   "metadata": {},
   "outputs": [],
   "source": [
    "def ola(w = None,hop = None,Nb = 10): \n",
    "# function output = ola(w,hop,Nb)\n",
    "# realise l'addition-recouvrement de la fenetre w,\n",
    "# avec un décalage hop et un nombre Nb de fenetres.\n",
    "# par defaut Nb = 10;\n",
    "    w = w[:,np.newaxis]\n",
    "    N = len(w)\n",
    "    output = np.zeros(((Nb-1)*hop+N,1)) # réserve l'espace memoire\n",
    "    for k in np.arange(0,Nb).reshape(-1):\n",
    "        deb = k* hop\n",
    "        fin = deb+N\n",
    "        output[np.arange(deb,fin)] = output[np.arange(deb,fin)] + w # OLA\n",
    "    return output"
   ]
  },
  {
   "cell_type": "code",
   "execution_count": null,
   "metadata": {},
   "outputs": [],
   "source": [
    "# Partie 1\n",
    "N = 512\n",
    "Nb = 10\n",
    "hop = N//4\n",
    "Nt = (np.rint((N-M)/R)).astype(int)\n",
    "\n",
    "# On définit la fenêtre de Hanning\n",
    "h = np.hanning(N)\n",
    "wp = h**2\n",
    "\n",
    "h_ola = ola(wp,hop,Nt)\n",
    "\n",
    "# On calcule le facteur de normalisation\n",
    "norm = np.max(h_ola)\n",
    "h_ola = h_ola/norm\n",
    "\n",
    "plt.figure(figsize=(20,3))\n",
    "plt.subplot(131)\n",
    "plt.plot(h)\n",
    "plt.title('Fenêtre de Hanning')\n",
    "\n",
    "plt.subplot(132)\n",
    "plt.plot(h_ola)\n",
    "plt.title('OLA de la fenêtre de Hanning')\n",
    "plt.axhline(y=1, color='r', linestyle='--')\n",
    "# plt.axvline(x=0.20*len(h_ola), color='r', linestyle='--')\n",
    "# plt.axvline(x=0.80*len(h_ola), color='r', linestyle='--')\n",
    "\n",
    "# plt.subplot(133)\n",
    "# plt.plot(np.arange(0,500),h_ola[0:500], label=\"0-500\")\n",
    "# plt.plot(np.arange(500,1000),h_ola[len(h_ola)-500:len(h_ola)], label=\"2750-3250\")"
   ]
  },
  {
   "cell_type": "markdown",
   "metadata": {},
   "source": [
    "Une fois normalisé par le bon facteur, **on a bien $f(n)=1$** sur la totalité de l'intervalle !\n",
    "La condition est donc parfaitement respectée et la fenetre de Hanning permet une resconctruction parfaite !"
   ]
  },
  {
   "cell_type": "markdown",
   "metadata": {},
   "source": [
    "### Question 6\n",
    "On va implémenter la reconstruction avec OLA. Pour cela nous utiliserons une fenetre de Hanning, puisqu'elle vérifie la condition de resconstruction parfaite démontrée à la question 5."
   ]
  },
  {
   "cell_type": "code",
   "execution_count": 160,
   "metadata": {},
   "outputs": [],
   "source": [
    "M = 32\n",
    "Nw = M\n",
    "R = 1\n",
    "XtildeOLA = X_tilde(x,M,R)\n",
    "y = np.zeros(len(x))"
   ]
  },
  {
   "cell_type": "code",
   "execution_count": 161,
   "metadata": {},
   "outputs": [],
   "source": [
    "# On rapelle qu'on cherche à reconstruire x à partir de XtildeOLA qui est la STFT de x (son spectrogramme donc)\n",
    "# On va donc pour chaque échantillon de XtildeOLA:\n",
    "# - Calculer la TFD inverse\n",
    "# - Multiplier par une fenêtre de Hanning\n",
    "# - Réaliser l'OLA de ces fenêtres\n",
    "def reconstruction(XtildeOLA):\n",
    "    y = np.zeros(M+R*XtildeOLA.shape[1])\n",
    "    for i in range(len(XtildeOLA[0])):\n",
    "        x_partiel = np.real(np.fft.ifft(XtildeOLA[:,i],M))\n",
    "        # print(x_partiel.shape)\n",
    "        w = np.concatenate([np.hanning(M),np.zeros(np.abs(M-Nw))])\n",
    "        x_w_partiel = x_partiel*w\n",
    "        y[i*R:i*R+Nw] += x_w_partiel\n",
    "    return y\n",
    "\n",
    "y = reconstruction(XtildeOLA)\n",
    "y = np.concatenate([y,np.zeros(len(x)-len(y))])\n",
    "\n",
    "# Normalisons\n",
    "y = y/np.max(y)"
   ]
  },
  {
   "cell_type": "code",
   "execution_count": null,
   "metadata": {},
   "outputs": [],
   "source": [
    "Audio(y,rate=Fs)"
   ]
  },
  {
   "cell_type": "markdown",
   "metadata": {},
   "source": [
    "Nous observons la musique d'origine. La reconstruction OLa fonctionne fonctionne de manière tout à fait correcte. Observons tout de même son allure et calculons l'erreur quadratique moyenne."
   ]
  },
  {
   "cell_type": "code",
   "execution_count": null,
   "metadata": {},
   "outputs": [],
   "source": [
    "diff = np.abs((x/np.max(x))-(y/np.max(y)))\n",
    "t = np.arange(len(x))/Fs\n",
    "\n",
    "fig = plt.figure(figsize=(15,3))\n",
    "plt.subplot(211)\n",
    "plt.plot(t,x)\n",
    "plt.title('Signal reconstruit')\n",
    "plt.subplot(212)\n",
    "plt.plot(t,diff**2)\n",
    "plt.title('Différence entre signal original et reconstruit')\n",
    "plt.tight_layout()"
   ]
  },
  {
   "cell_type": "code",
   "execution_count": null,
   "metadata": {},
   "outputs": [],
   "source": [
    "error = np.mean(diff**2)\n",
    "print(f\"Erreur quadratique moyenne de reconstruction: {error}\")\n",
    "\n",
    "if error < 1e-3 :   \n",
    "    print(\"Reconstruction parfaite validée!\")\n",
    "else:\n",
    "    print(\"La reconstruction n'est pas parfaite\")"
   ]
  },
  {
   "cell_type": "markdown",
   "metadata": {},
   "source": [
    "On a définit une erreur quadratique moyenne acceptable comme étant inférieur à 1/1000. On obtient bien quelque chose de très proche !\n",
    "\n",
    "Notre reconstruction nous permet donc de retrouver le signal d'origine !"
   ]
  },
  {
   "cell_type": "markdown",
   "metadata": {},
   "source": [
    "### Question 7\n",
    "\n",
    "On veut implémenter un equalizer. Cela correspond à choisir un vecteur de $w_k$ qui nous permettra d'augmenter l'effet de certaines fréquences et de diminuer l'effet d'autres.\n",
    "Pour cela, comme l'indique l'énoncé, on va répeter exactement ce qu'on a fait avant, en ajoutant juste une multiplication par un vecteur $w_k$ juste avant d'effectuer la TFD inverse.\n",
    "\n",
    "$w_k$ sera définit grace à 3 curseurs, chacun augmente un tier du vecteur :\n",
    "- t1 augmente le premier tier et correspond donc à une augmentation des basses fréquences\n",
    "- t2 augmente le second tier\n",
    "- t3 augmente le troisième tier"
   ]
  },
  {
   "cell_type": "code",
   "execution_count": 165,
   "metadata": {},
   "outputs": [],
   "source": [
    "def equalizer(XtildeOLA,w_k):\n",
    "    y = np.zeros(M+R*XtildeOLA.shape[1])\n",
    "    for i in range(len(XtildeOLA[1])):\n",
    "        x_partiel = np.real(np.fft.ifft(XtildeOLA[:,i]*w_k,M))\n",
    "        # print(x_partiel.shape)\n",
    "        w = np.concatenate([np.hanning(M),np.zeros(M-Nw)])\n",
    "        x_w_partiel = x_partiel*w\n",
    "        y[i*R:i*R+Nw] += x_w_partiel\n",
    "    return y"
   ]
  },
  {
   "cell_type": "markdown",
   "metadata": {},
   "source": [
    "Définissons notre vecteur $w_k$ :"
   ]
  },
  {
   "cell_type": "code",
   "execution_count": null,
   "metadata": {},
   "outputs": [],
   "source": [
    "import ipywidgets as widgets\n",
    "\n",
    "w_k = np.ones(XtildeOLA.shape[0])\n",
    "\n",
    "def def_w_k(t1,t2,t3):\n",
    "    t = M//3\n",
    "    w_k[:t] *= t1\n",
    "    w_k[t:2*t] *= t2\n",
    "    w_k[2*t:] *= t3\n",
    "    print(w_k)\n",
    "\n",
    "t1 = widgets.FloatSlider(value=1,min=0,max=12,step=0.1,description='t1')\n",
    "t2 = widgets.FloatSlider(value=1,min=0,max=12,step=0.1,description='t2')\n",
    "t3 = widgets.FloatSlider(value=1,min=0,max=12,step=0.1,description='t3')\n",
    "\n",
    "ui = widgets.HBox([t1,t2,t3])\n",
    "out = widgets.interactive_output(def_w_k, {'t1':t1,'t2':t2,'t3':t3})\n",
    "display(ui,out)"
   ]
  },
  {
   "cell_type": "markdown",
   "metadata": {},
   "source": [
    "Et vérifions que notre méthode fonctionne bien."
   ]
  },
  {
   "cell_type": "code",
   "execution_count": null,
   "metadata": {},
   "outputs": [],
   "source": [
    "y_equalized = equalizer(XtildeOLA,w_k)\n",
    "Audio(y_equalized,rate=Fs)"
   ]
  },
  {
   "cell_type": "markdown",
   "metadata": {},
   "source": [
    "**Limitation :** Comme on l'avait vu à une question précédente, le decoupage de la plage fréquentielle en 32 ne permet pas d'isoler correctement les plages de fréquences *audibles*.\n",
    "En effet l'audition fonctionne en échelle logarithmique, et il faudrait donc ajuster $w_k$ non pas selon 3 tiers, mais selon 3 plages égales au niveau algorithmique.\n",
    "Cela permetrait d'obtenir un equalizer bien meilleur niveau audition."
   ]
  },
  {
   "cell_type": "markdown",
   "metadata": {},
   "source": [
    "\n",
    "\n",
    "\n",
    "\n",
    "\n",
    "#### $\\color{white}{\\textit{Fin du TP de Maël Le Guillouzic}}$"
   ]
  }
 ],
 "metadata": {
  "kernelspec": {
   "display_name": "Python 3",
   "language": "python",
   "name": "python3"
  },
  "language_info": {
   "codemirror_mode": {
    "name": "ipython",
    "version": 3
   },
   "file_extension": ".py",
   "mimetype": "text/x-python",
   "name": "python",
   "nbconvert_exporter": "python",
   "pygments_lexer": "ipython3",
   "version": "3.11.4"
  }
 },
 "nbformat": 4,
 "nbformat_minor": 2
}
